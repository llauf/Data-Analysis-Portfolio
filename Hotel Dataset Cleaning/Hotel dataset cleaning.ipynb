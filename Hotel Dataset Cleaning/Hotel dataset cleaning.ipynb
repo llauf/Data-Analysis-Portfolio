{
 "cells": [
  {
   "cell_type": "markdown",
   "id": "9d2f9d71-10f1-482d-ae8b-839033a032b6",
   "metadata": {},
   "source": [
    "# Data cleaning project - Hotel bookings dataset\n",
    "### [Link to the dataset](https://www.kaggle.com/datasets/jessemostipak/hotel-booking-demand/data)"
   ]
  },
  {
   "cell_type": "markdown",
   "id": "d1074c15-981a-4114-8f2a-5e4a1ef7f502",
   "metadata": {},
   "source": [
    "### About Hotel booking dataset:\n",
    "\n",
    "This dataset contains 119,390 observations from two types of hotels: **City Hotel** and **Resort Hotel**. Each observation represents a hotel booking made between **July 1, 2015**, and **August 31, 2017**. The data includes both successful bookings (those where the customer checked in) and bookings that were canceled."
   ]
  },
  {
   "cell_type": "markdown",
   "id": "ff06f6c0-3498-4125-9db3-548483687606",
   "metadata": {},
   "source": [
    "**Import libraries**"
   ]
  },
  {
   "cell_type": "code",
   "execution_count": null,
   "id": "89ec1f1d-1466-4ca4-861c-6f606b9c52f7",
   "metadata": {},
   "outputs": [],
   "source": [
    "import pandas as pd"
   ]
  },
  {
   "cell_type": "markdown",
   "id": "fd17120e-495e-4e81-8906-d6c5d2b25d3a",
   "metadata": {},
   "source": [
    "**Load the dataset and display the first few rows**"
   ]
  },
  {
   "cell_type": "code",
   "execution_count": null,
   "id": "2828c892-6991-4f9f-8baa-cc2d81619c39",
   "metadata": {},
   "outputs": [],
   "source": [
    "df = pd.read_csv('hotel_bookings.csv')\n",
    "df.head()"
   ]
  },
  {
   "cell_type": "markdown",
   "id": "f5906199-e611-4ace-aa8a-5a60c1a2009f",
   "metadata": {},
   "source": [
    "**Handle missing values and check for any remaining missing values**\n",
    "\n",
    "In 'country', 'agent' and 'company' columns missing values were replaced with \"Undefined\" to correlate with other columns. For 'children' column, however, missing values were replaced with 0, and the column were converted to integers."
   ]
  },
  {
   "cell_type": "code",
   "execution_count": null,
   "id": "19da2602-14f7-48b9-8ea8-3b07c1be68da",
   "metadata": {},
   "outputs": [],
   "source": [
    "df = df.fillna(\"Undefined\")\n",
    "df['children'] = pd.to_numeric(df['children'], errors='coerce')\n",
    "df['children'] = df['children'].fillna(0).astype('int64')\n",
    "\n",
    "df.isnull().sum()"
   ]
  },
  {
   "cell_type": "markdown",
   "id": "31fbfa66-0bab-4713-83d6-cb5a7bfb1d2e",
   "metadata": {},
   "source": [
    "**Process date columns**\n",
    "\n",
    "Arrival date was splitted to three columns with year, month in text format, and day of the month. To make this easier for future analysis, a unified 'arrival_date' column were created by combining these separate columns. Then 'arrival_date' and 'reservation_status_date' were converted to a proper datetime format."
   ]
  },
  {
   "cell_type": "code",
   "execution_count": null,
   "id": "db92ac45-c959-4cbd-8d67-e9b96a1726e7",
   "metadata": {},
   "outputs": [],
   "source": [
    "# Convert 'arrival_date_month' from text to numeric month\n",
    "df['arrival_date_month'] = pd.to_datetime(df['arrival_date_month'], format='%B').dt.month\n",
    "\n",
    "# Create a new 'arrival_date' column from year, month, and day columns\n",
    "df.insert(3, 'arrival_date', \n",
    "          pd.to_datetime(df['arrival_date_year'].astype(str) + '-' + \n",
    "                         df['arrival_date_month'].astype(str).str.zfill(2) + '-' + \n",
    "                         df['arrival_date_day_of_month'].astype(str).str.zfill(2)))\n",
    "\n",
    "# Drop the original columns used to create 'arrival_date'\n",
    "df = df.drop(['arrival_date_year', 'arrival_date_month', 'arrival_date_day_of_month'], axis=1)\n",
    "\n",
    "# Convert 'reservation_status_date' to datetime\n",
    "df['reservation_status_date'] = pd.to_datetime(df['reservation_status_date'])"
   ]
  },
  {
   "cell_type": "markdown",
   "id": "d08ae647-c953-47dc-8f46-e72fbc107562",
   "metadata": {},
   "source": [
    "**Convert boolean columns**\n",
    "\n",
    "Columns with only 0 and 1 values were converted into a boolean format for easier analysis."
   ]
  },
  {
   "cell_type": "code",
   "execution_count": null,
   "id": "3d2bc5fd-dd91-402d-b396-6af748d77530",
   "metadata": {},
   "outputs": [],
   "source": [
    "# Convert columns with 0 and 1 values to boolean\n",
    "boolean_columns = ['is_canceled', 'is_repeated_guest', 'previous_cancellations', 'previous_bookings_not_canceled']\n",
    "for column in boolean_columns:\n",
    "    df[column] = df[column].astype(bool)"
   ]
  },
  {
   "cell_type": "markdown",
   "id": "31e4d140-3bb0-4e4d-9ae3-b6f56af0be21",
   "metadata": {},
   "source": [
    "**Convert columns to categories**\n",
    "\n",
    "Converted text-based columns with repeated values into a more efficient categorical type to save memory and improve performance."
   ]
  },
  {
   "cell_type": "code",
   "execution_count": null,
   "id": "58a32b6e-0236-49cf-9717-6338f18ec6ef",
   "metadata": {},
   "outputs": [],
   "source": [
    "columns_to_convert = ['hotel', 'market_segment', 'distribution_channel', \n",
    "                      'reserved_room_type', 'assigned_room_type', \n",
    "                      'customer_type', 'reservation_status']\n",
    "for column in columns_to_convert:\n",
    "    df[column] = df[column].astype('category')"
   ]
  },
  {
   "cell_type": "markdown",
   "id": "cf27d85e-5c2a-4bac-bae2-98bed2a6a2c1",
   "metadata": {},
   "source": [
    "**Remove duplicates**"
   ]
  },
  {
   "cell_type": "code",
   "execution_count": null,
   "id": "bab9861d-aee4-4eef-8fdc-727c97fb9c17",
   "metadata": {},
   "outputs": [],
   "source": [
    "df = df.drop_duplicates()"
   ]
  },
  {
   "cell_type": "markdown",
   "id": "587ebea6-c768-40b0-b944-cc732916d975",
   "metadata": {},
   "source": [
    "**Save the cleaned dataset**"
   ]
  },
  {
   "cell_type": "code",
   "execution_count": null,
   "id": "6cab6afa-a794-40ae-927d-b22e2e3efafe",
   "metadata": {},
   "outputs": [],
   "source": [
    "df.to_csv('hotel_bookings_cleaned.csv', index=False)"
   ]
  }
 ],
 "metadata": {
  "kernelspec": {
   "display_name": "Python 3 (ipykernel)",
   "language": "python",
   "name": "python3"
  },
  "language_info": {
   "codemirror_mode": {
    "name": "ipython",
    "version": 3
   },
   "file_extension": ".py",
   "mimetype": "text/x-python",
   "name": "python",
   "nbconvert_exporter": "python",
   "pygments_lexer": "ipython3",
   "version": "3.12.4"
  }
 },
 "nbformat": 4,
 "nbformat_minor": 5
}
